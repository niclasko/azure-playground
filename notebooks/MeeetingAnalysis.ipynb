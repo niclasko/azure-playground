{
 "cells": [
  {
   "cell_type": "code",
   "execution_count": null,
   "metadata": {},
   "outputs": [],
   "source": [
    "%load_ext autoreload\n",
    "%autoreload 2\n",
    "\n",
    "from azure_playground.utils.video_downloader import VideoDownloader\n",
    "from azure_playground.utils.video_frame_sampler import VideoFrameSampler, Frame\n",
    "from azure_playground.utils.video_frame_analyzer import VideoFrameAnalyzer\n",
    "from azure_playground.instructions.video_frame_analysis import VideoFrameAnalysis, VideoFrameAnalysisResult\n",
    "from azure_playground.models.llms.azure_openai import AzureOpenAI\n",
    "from typing import List\n",
    "\n",
    "from dotenv import load_dotenv\n",
    "from os import getenv\n",
    "import logging\n",
    "\n",
    "logging.basicConfig(level=logging.INFO)\n",
    "\n",
    "load_dotenv()"
   ]
  },
  {
   "cell_type": "markdown",
   "metadata": {},
   "source": [
    "Download video"
   ]
  },
  {
   "cell_type": "code",
   "execution_count": null,
   "metadata": {},
   "outputs": [],
   "source": [
    "VideoDownloader.download(\n",
    "    url=\"https://www.youtube.com/watch?v=WYMgl3JLJ4E\", # url of the video - this is a Teams meeting recording\n",
    "    output_path=\"../data/videos\"\n",
    ")"
   ]
  },
  {
   "cell_type": "markdown",
   "metadata": {},
   "source": [
    "Sample video frames"
   ]
  },
  {
   "cell_type": "code",
   "execution_count": null,
   "metadata": {},
   "outputs": [],
   "source": [
    "sampler: VideoFrameSampler = VideoFrameSampler(\n",
    "    input=r\"../data/videos/Plan ｜ Weekly Sync 2022-08-03 Part 2.mp4\",\n",
    "    output=r\"../data/frames\",\n",
    ")\n",
    "frames: List[Frame] = sampler.sample(10)"
   ]
  },
  {
   "cell_type": "markdown",
   "metadata": {},
   "source": [
    "Analyze video frames"
   ]
  },
  {
   "cell_type": "code",
   "execution_count": null,
   "metadata": {},
   "outputs": [],
   "source": [
    "analyzer: VideoFrameAnalyzer = VideoFrameAnalyzer(\n",
    "    instruction=VideoFrameAnalysis(),\n",
    "    model=AzureOpenAI(\n",
    "        endpoint=getenv(\"AZURE_OPENAI_ENDPOINT\"),\n",
    "        api_key=getenv(\"AZURE_OPENAI_API_KEY\")\n",
    "    )\n",
    ")\n",
    "analyses: List[VideoFrameAnalysisResult] = await analyzer.analyze(frames)"
   ]
  },
  {
   "cell_type": "markdown",
   "metadata": {},
   "source": [
    "Inspect frames and analysis"
   ]
  },
  {
   "cell_type": "code",
   "execution_count": null,
   "metadata": {},
   "outputs": [],
   "source": [
    "for index, analysis in enumerate(analyses[:-2]):\n",
    "    print(analysis.model_dump_json(indent=2))\n",
    "    print(frames[index].view())"
   ]
  },
  {
   "cell_type": "code",
   "execution_count": null,
   "metadata": {},
   "outputs": [],
   "source": []
  }
 ],
 "metadata": {
  "kernelspec": {
   "display_name": "azure_playground_env",
   "language": "python",
   "name": "python3"
  },
  "language_info": {
   "codemirror_mode": {
    "name": "ipython",
    "version": 3
   },
   "file_extension": ".py",
   "mimetype": "text/x-python",
   "name": "python",
   "nbconvert_exporter": "python",
   "pygments_lexer": "ipython3",
   "version": "3.11.11"
  }
 },
 "nbformat": 4,
 "nbformat_minor": 2
}
